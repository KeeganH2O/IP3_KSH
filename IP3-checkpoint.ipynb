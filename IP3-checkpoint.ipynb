{
 "cells": [
  {
   "cell_type": "markdown",
   "id": "eed91fa4-d3a9-4816-a037-bbefee7f3e4c",
   "metadata": {},
   "source": [
    "# Part 1"
   ]
  },
  {
   "cell_type": "code",
   "execution_count": 1,
   "id": "2bfccca8-111a-4952-bf99-a0f4a0622d28",
   "metadata": {},
   "outputs": [],
   "source": [
    "import pandas as pd\n",
    "import numpy as np\n",
    "import matplotlib.pyplot as plt\n",
    "import seaborn as sns\n",
    "import datetime as datetime\n",
    "\n",
    "import os as os"
   ]
  },
  {
   "cell_type": "code",
   "execution_count": 2,
   "id": "93a91d26-4dd6-466c-9291-c2ade691c8c8",
   "metadata": {},
   "outputs": [],
   "source": [
    "Hertz = pd.read_csv('50Hertz.csv')\n",
    "Amprion = pd.read_csv('Amprion.csv')\n",
    "Tenne = pd.read_csv('TenneTTSO.csv')\n",
    "Transnet = pd.read_csv('TransnetBW.csv')"
   ]
  },
  {
   "cell_type": "code",
   "execution_count": 3,
   "id": "5f1d898d-510a-41c6-a4d8-2e2dad3cd75d",
   "metadata": {},
   "outputs": [],
   "source": [
    "#1a\n",
    "def CombineFiles(x, Filename):\n",
    "    x.Date = pd.to_datetime(x.Date).dt.strftime(\"%m/%d/%Y\")\n",
    "    x.Date = pd.to_datetime(x.Date)\n",
    "    #x.Date = x.Date.dt.strftime(\"%m/%d/%Y\")\n",
    "    print(x.Date.dtype)\n",
    "    \n",
    "    x.insert(0,\"Company\",Filename)"
   ]
  },
  {
   "cell_type": "code",
   "execution_count": 4,
   "id": "655b8d9b-0277-455f-9f54-50b48b269ebd",
   "metadata": {},
   "outputs": [],
   "source": [
    "#Hertz.Date\n",
    "#Hertz.head()"
   ]
  },
  {
   "cell_type": "code",
   "execution_count": 5,
   "id": "34bad9ba-fcff-47d4-9103-97bdcce96bb1",
   "metadata": {},
   "outputs": [
    {
     "name": "stdout",
     "output_type": "stream",
     "text": [
      "datetime64[ns]\n",
      "datetime64[ns]\n",
      "datetime64[ns]\n",
      "datetime64[ns]\n"
     ]
    }
   ],
   "source": [
    "CombineFiles(Hertz, \"50Hertz\")\n",
    "CombineFiles(Amprion,\"Amprion\")\n",
    "CombineFiles(Tenne,\"TenneTTSO\")\n",
    "CombineFiles(Transnet,\"TransnetBW\")"
   ]
  },
  {
   "cell_type": "code",
   "execution_count": 6,
   "id": "f8a84148-de2a-4cc2-b964-95d95ba32de5",
   "metadata": {},
   "outputs": [],
   "source": [
    "Big_File = pd.concat([Hertz,Amprion,Tenne,Transnet],ignore_index = True)"
   ]
  },
  {
   "cell_type": "code",
   "execution_count": 7,
   "id": "da9e3520-7189-4a9a-af25-c0e4055fed4b",
   "metadata": {},
   "outputs": [
    {
     "data": {
      "text/plain": [
       "Company             object\n",
       "Date        datetime64[ns]\n",
       "00:00:00             int64\n",
       "00:15:00             int64\n",
       "00:30:00             int64\n",
       "                 ...      \n",
       "22:45:00             int64\n",
       "23:00:00             int64\n",
       "23:15:00             int64\n",
       "23:30:00             int64\n",
       "23:45:00             int64\n",
       "Length: 98, dtype: object"
      ]
     },
     "execution_count": 7,
     "metadata": {},
     "output_type": "execute_result"
    }
   ],
   "source": [
    "Big_File.head()\n",
    "Big_File.tail()\n",
    "Hertz.dtypes"
   ]
  },
  {
   "cell_type": "code",
   "execution_count": 8,
   "id": "b5f9bdb4-7d9b-4f81-abc9-296fb9f80463",
   "metadata": {},
   "outputs": [],
   "source": [
    "#Company/Year group\n",
    "year = Big_File['Date'].dt.year\n",
    "CYGroup = Big_File.groupby(['Company',year]).mean()"
   ]
  },
  {
   "cell_type": "code",
   "execution_count": 9,
   "id": "304bb713-e9d8-41ae-9307-b2f0dfb8e63e",
   "metadata": {},
   "outputs": [],
   "source": [
    "CYGroup = pd.DataFrame(CYGroup)"
   ]
  },
  {
   "cell_type": "code",
   "execution_count": 10,
   "id": "6cc67a66-f44d-48d4-a572-a47ca8853201",
   "metadata": {},
   "outputs": [
    {
     "data": {
      "text/html": [
       "<div>\n",
       "<style scoped>\n",
       "    .dataframe tbody tr th:only-of-type {\n",
       "        vertical-align: middle;\n",
       "    }\n",
       "\n",
       "    .dataframe tbody tr th {\n",
       "        vertical-align: top;\n",
       "    }\n",
       "\n",
       "    .dataframe thead th {\n",
       "        text-align: right;\n",
       "    }\n",
       "</style>\n",
       "<table border=\"1\" class=\"dataframe\">\n",
       "  <thead>\n",
       "    <tr style=\"text-align: right;\">\n",
       "      <th></th>\n",
       "      <th></th>\n",
       "      <th>00:00:00</th>\n",
       "      <th>00:15:00</th>\n",
       "      <th>00:30:00</th>\n",
       "      <th>00:45:00</th>\n",
       "      <th>01:00:00</th>\n",
       "      <th>01:15:00</th>\n",
       "      <th>01:30:00</th>\n",
       "      <th>01:45:00</th>\n",
       "      <th>02:00:00</th>\n",
       "      <th>02:15:00</th>\n",
       "      <th>...</th>\n",
       "      <th>21:30:00</th>\n",
       "      <th>21:45:00</th>\n",
       "      <th>22:00:00</th>\n",
       "      <th>22:15:00</th>\n",
       "      <th>22:30:00</th>\n",
       "      <th>22:45:00</th>\n",
       "      <th>23:00:00</th>\n",
       "      <th>23:15:00</th>\n",
       "      <th>23:30:00</th>\n",
       "      <th>23:45:00</th>\n",
       "    </tr>\n",
       "    <tr>\n",
       "      <th>Company</th>\n",
       "      <th>Date</th>\n",
       "      <th></th>\n",
       "      <th></th>\n",
       "      <th></th>\n",
       "      <th></th>\n",
       "      <th></th>\n",
       "      <th></th>\n",
       "      <th></th>\n",
       "      <th></th>\n",
       "      <th></th>\n",
       "      <th></th>\n",
       "      <th></th>\n",
       "      <th></th>\n",
       "      <th></th>\n",
       "      <th></th>\n",
       "      <th></th>\n",
       "      <th></th>\n",
       "      <th></th>\n",
       "      <th></th>\n",
       "      <th></th>\n",
       "      <th></th>\n",
       "      <th></th>\n",
       "    </tr>\n",
       "  </thead>\n",
       "  <tbody>\n",
       "    <tr>\n",
       "      <th rowspan=\"2\" valign=\"top\">50Hertz</th>\n",
       "      <th>2019</th>\n",
       "      <td>143.320611</td>\n",
       "      <td>142.351145</td>\n",
       "      <td>142.366412</td>\n",
       "      <td>142.000000</td>\n",
       "      <td>141.900763</td>\n",
       "      <td>141.381679</td>\n",
       "      <td>140.648855</td>\n",
       "      <td>140.923664</td>\n",
       "      <td>140.732824</td>\n",
       "      <td>140.458015</td>\n",
       "      <td>...</td>\n",
       "      <td>144.328244</td>\n",
       "      <td>144.839695</td>\n",
       "      <td>144.709924</td>\n",
       "      <td>144.641221</td>\n",
       "      <td>144.442748</td>\n",
       "      <td>144.274809</td>\n",
       "      <td>144.954198</td>\n",
       "      <td>144.206107</td>\n",
       "      <td>144.076336</td>\n",
       "      <td>144.259542</td>\n",
       "    </tr>\n",
       "    <tr>\n",
       "      <th>2020</th>\n",
       "      <td>141.894737</td>\n",
       "      <td>141.124060</td>\n",
       "      <td>140.936090</td>\n",
       "      <td>140.838346</td>\n",
       "      <td>140.281955</td>\n",
       "      <td>140.037594</td>\n",
       "      <td>139.462406</td>\n",
       "      <td>139.112782</td>\n",
       "      <td>138.646617</td>\n",
       "      <td>138.560150</td>\n",
       "      <td>...</td>\n",
       "      <td>147.590226</td>\n",
       "      <td>147.214286</td>\n",
       "      <td>147.075188</td>\n",
       "      <td>146.661654</td>\n",
       "      <td>145.609023</td>\n",
       "      <td>144.624060</td>\n",
       "      <td>143.864662</td>\n",
       "      <td>143.680451</td>\n",
       "      <td>143.112782</td>\n",
       "      <td>142.338346</td>\n",
       "    </tr>\n",
       "    <tr>\n",
       "      <th rowspan=\"2\" valign=\"top\">Amprion</th>\n",
       "      <th>2019</th>\n",
       "      <td>106.992366</td>\n",
       "      <td>106.679389</td>\n",
       "      <td>106.091603</td>\n",
       "      <td>105.549618</td>\n",
       "      <td>108.083969</td>\n",
       "      <td>108.282443</td>\n",
       "      <td>108.129771</td>\n",
       "      <td>107.465649</td>\n",
       "      <td>107.282443</td>\n",
       "      <td>106.671756</td>\n",
       "      <td>...</td>\n",
       "      <td>115.412214</td>\n",
       "      <td>114.572519</td>\n",
       "      <td>114.076336</td>\n",
       "      <td>112.961832</td>\n",
       "      <td>112.595420</td>\n",
       "      <td>112.427481</td>\n",
       "      <td>111.343511</td>\n",
       "      <td>110.946565</td>\n",
       "      <td>110.328244</td>\n",
       "      <td>107.473282</td>\n",
       "    </tr>\n",
       "    <tr>\n",
       "      <th>2020</th>\n",
       "      <td>93.751880</td>\n",
       "      <td>94.312030</td>\n",
       "      <td>94.424812</td>\n",
       "      <td>94.033835</td>\n",
       "      <td>93.657895</td>\n",
       "      <td>93.563910</td>\n",
       "      <td>93.146617</td>\n",
       "      <td>92.812030</td>\n",
       "      <td>92.571429</td>\n",
       "      <td>92.127820</td>\n",
       "      <td>...</td>\n",
       "      <td>96.515038</td>\n",
       "      <td>96.338346</td>\n",
       "      <td>96.368421</td>\n",
       "      <td>96.379699</td>\n",
       "      <td>96.176692</td>\n",
       "      <td>94.898496</td>\n",
       "      <td>95.018797</td>\n",
       "      <td>94.973684</td>\n",
       "      <td>94.691729</td>\n",
       "      <td>94.383459</td>\n",
       "    </tr>\n",
       "    <tr>\n",
       "      <th rowspan=\"2\" valign=\"top\">TenneTTSO</th>\n",
       "      <th>2019</th>\n",
       "      <td>150.866183</td>\n",
       "      <td>150.450992</td>\n",
       "      <td>150.152901</td>\n",
       "      <td>149.611679</td>\n",
       "      <td>148.946412</td>\n",
       "      <td>148.629847</td>\n",
       "      <td>148.808473</td>\n",
       "      <td>148.620382</td>\n",
       "      <td>148.236031</td>\n",
       "      <td>147.931298</td>\n",
       "      <td>...</td>\n",
       "      <td>152.761908</td>\n",
       "      <td>152.608015</td>\n",
       "      <td>152.675802</td>\n",
       "      <td>152.765115</td>\n",
       "      <td>152.631374</td>\n",
       "      <td>152.897176</td>\n",
       "      <td>152.363740</td>\n",
       "      <td>152.357405</td>\n",
       "      <td>152.236565</td>\n",
       "      <td>151.705496</td>\n",
       "    </tr>\n",
       "    <tr>\n",
       "      <th>2020</th>\n",
       "      <td>141.603835</td>\n",
       "      <td>141.457105</td>\n",
       "      <td>141.203120</td>\n",
       "      <td>141.206278</td>\n",
       "      <td>140.931617</td>\n",
       "      <td>140.642105</td>\n",
       "      <td>140.583008</td>\n",
       "      <td>140.537632</td>\n",
       "      <td>140.579962</td>\n",
       "      <td>140.784511</td>\n",
       "      <td>...</td>\n",
       "      <td>145.523571</td>\n",
       "      <td>144.793947</td>\n",
       "      <td>144.206466</td>\n",
       "      <td>143.894850</td>\n",
       "      <td>143.764248</td>\n",
       "      <td>143.694135</td>\n",
       "      <td>143.535902</td>\n",
       "      <td>142.563008</td>\n",
       "      <td>142.350075</td>\n",
       "      <td>141.976128</td>\n",
       "    </tr>\n",
       "    <tr>\n",
       "      <th rowspan=\"2\" valign=\"top\">TransnetBW</th>\n",
       "      <th>2019</th>\n",
       "      <td>39.293740</td>\n",
       "      <td>39.462290</td>\n",
       "      <td>39.165191</td>\n",
       "      <td>39.138321</td>\n",
       "      <td>39.369084</td>\n",
       "      <td>39.028779</td>\n",
       "      <td>38.834580</td>\n",
       "      <td>38.684504</td>\n",
       "      <td>38.211145</td>\n",
       "      <td>38.427099</td>\n",
       "      <td>...</td>\n",
       "      <td>38.739847</td>\n",
       "      <td>38.871527</td>\n",
       "      <td>38.754275</td>\n",
       "      <td>38.998473</td>\n",
       "      <td>39.014733</td>\n",
       "      <td>39.522290</td>\n",
       "      <td>39.187099</td>\n",
       "      <td>39.421832</td>\n",
       "      <td>39.499924</td>\n",
       "      <td>39.299924</td>\n",
       "    </tr>\n",
       "    <tr>\n",
       "      <th>2020</th>\n",
       "      <td>30.899023</td>\n",
       "      <td>30.604737</td>\n",
       "      <td>30.354023</td>\n",
       "      <td>29.871128</td>\n",
       "      <td>29.731955</td>\n",
       "      <td>29.642481</td>\n",
       "      <td>29.409511</td>\n",
       "      <td>29.432857</td>\n",
       "      <td>29.453045</td>\n",
       "      <td>29.410301</td>\n",
       "      <td>...</td>\n",
       "      <td>31.489662</td>\n",
       "      <td>31.425075</td>\n",
       "      <td>31.569248</td>\n",
       "      <td>31.510526</td>\n",
       "      <td>31.356391</td>\n",
       "      <td>31.330113</td>\n",
       "      <td>31.271917</td>\n",
       "      <td>30.962932</td>\n",
       "      <td>30.978346</td>\n",
       "      <td>30.907481</td>\n",
       "    </tr>\n",
       "  </tbody>\n",
       "</table>\n",
       "<p>8 rows × 96 columns</p>\n",
       "</div>"
      ],
      "text/plain": [
       "                   00:00:00    00:15:00    00:30:00    00:45:00    01:00:00  \\\n",
       "Company    Date                                                               \n",
       "50Hertz    2019  143.320611  142.351145  142.366412  142.000000  141.900763   \n",
       "           2020  141.894737  141.124060  140.936090  140.838346  140.281955   \n",
       "Amprion    2019  106.992366  106.679389  106.091603  105.549618  108.083969   \n",
       "           2020   93.751880   94.312030   94.424812   94.033835   93.657895   \n",
       "TenneTTSO  2019  150.866183  150.450992  150.152901  149.611679  148.946412   \n",
       "           2020  141.603835  141.457105  141.203120  141.206278  140.931617   \n",
       "TransnetBW 2019   39.293740   39.462290   39.165191   39.138321   39.369084   \n",
       "           2020   30.899023   30.604737   30.354023   29.871128   29.731955   \n",
       "\n",
       "                   01:15:00    01:30:00    01:45:00    02:00:00    02:15:00  \\\n",
       "Company    Date                                                               \n",
       "50Hertz    2019  141.381679  140.648855  140.923664  140.732824  140.458015   \n",
       "           2020  140.037594  139.462406  139.112782  138.646617  138.560150   \n",
       "Amprion    2019  108.282443  108.129771  107.465649  107.282443  106.671756   \n",
       "           2020   93.563910   93.146617   92.812030   92.571429   92.127820   \n",
       "TenneTTSO  2019  148.629847  148.808473  148.620382  148.236031  147.931298   \n",
       "           2020  140.642105  140.583008  140.537632  140.579962  140.784511   \n",
       "TransnetBW 2019   39.028779   38.834580   38.684504   38.211145   38.427099   \n",
       "           2020   29.642481   29.409511   29.432857   29.453045   29.410301   \n",
       "\n",
       "                 ...    21:30:00    21:45:00    22:00:00    22:15:00  \\\n",
       "Company    Date  ...                                                   \n",
       "50Hertz    2019  ...  144.328244  144.839695  144.709924  144.641221   \n",
       "           2020  ...  147.590226  147.214286  147.075188  146.661654   \n",
       "Amprion    2019  ...  115.412214  114.572519  114.076336  112.961832   \n",
       "           2020  ...   96.515038   96.338346   96.368421   96.379699   \n",
       "TenneTTSO  2019  ...  152.761908  152.608015  152.675802  152.765115   \n",
       "           2020  ...  145.523571  144.793947  144.206466  143.894850   \n",
       "TransnetBW 2019  ...   38.739847   38.871527   38.754275   38.998473   \n",
       "           2020  ...   31.489662   31.425075   31.569248   31.510526   \n",
       "\n",
       "                   22:30:00    22:45:00    23:00:00    23:15:00    23:30:00  \\\n",
       "Company    Date                                                               \n",
       "50Hertz    2019  144.442748  144.274809  144.954198  144.206107  144.076336   \n",
       "           2020  145.609023  144.624060  143.864662  143.680451  143.112782   \n",
       "Amprion    2019  112.595420  112.427481  111.343511  110.946565  110.328244   \n",
       "           2020   96.176692   94.898496   95.018797   94.973684   94.691729   \n",
       "TenneTTSO  2019  152.631374  152.897176  152.363740  152.357405  152.236565   \n",
       "           2020  143.764248  143.694135  143.535902  142.563008  142.350075   \n",
       "TransnetBW 2019   39.014733   39.522290   39.187099   39.421832   39.499924   \n",
       "           2020   31.356391   31.330113   31.271917   30.962932   30.978346   \n",
       "\n",
       "                   23:45:00  \n",
       "Company    Date              \n",
       "50Hertz    2019  144.259542  \n",
       "           2020  142.338346  \n",
       "Amprion    2019  107.473282  \n",
       "           2020   94.383459  \n",
       "TenneTTSO  2019  151.705496  \n",
       "           2020  141.976128  \n",
       "TransnetBW 2019   39.299924  \n",
       "           2020   30.907481  \n",
       "\n",
       "[8 rows x 96 columns]"
      ]
     },
     "execution_count": 10,
     "metadata": {},
     "output_type": "execute_result"
    }
   ],
   "source": [
    "CYGroup.tail(10)"
   ]
  },
  {
   "cell_type": "code",
   "execution_count": 11,
   "id": "f876aa32-52fe-434a-9741-232c60cbe5d7",
   "metadata": {},
   "outputs": [],
   "source": [
    "#Midnight Point group\n",
    "MPGroup = CYGroup['00:00:00']\n",
    "#Noon Point Group\n",
    "NPGroup = CYGroup['12:00:00']"
   ]
  },
  {
   "cell_type": "code",
   "execution_count": 12,
   "id": "b286a2a3-cc64-4da5-824a-d54b92ca2a8a",
   "metadata": {},
   "outputs": [
    {
     "data": {
      "text/plain": [
       "Company     Date\n",
       "50Hertz     2019    142.473282\n",
       "            2020    163.398496\n",
       "Amprion     2019    100.572519\n",
       "            2020    101.357143\n",
       "TenneTTSO   2019    149.229466\n",
       "            2020    162.944436\n",
       "TransnetBW  2019     37.772366\n",
       "            2020     25.731053\n",
       "Name: 12:00:00, dtype: float64"
      ]
     },
     "execution_count": 12,
     "metadata": {},
     "output_type": "execute_result"
    }
   ],
   "source": [
    "MPGroup.head(8)\n",
    "NPGroup.head(8)"
   ]
  },
  {
   "cell_type": "code",
   "execution_count": 13,
   "id": "ff944465-c910-4984-943b-354b88ad9102",
   "metadata": {},
   "outputs": [
    {
     "data": {
      "text/plain": [
       "Company    Date\n",
       "50Hertz    2019    143.320611\n",
       "           2020    141.894737\n",
       "Amprion    2019    106.992366\n",
       "           2020     93.751880\n",
       "TenneTTSO  2019    150.866183\n",
       "Name: 00:00:00, dtype: float64"
      ]
     },
     "execution_count": 13,
     "metadata": {},
     "output_type": "execute_result"
    }
   ],
   "source": [
    "MPGroup.head()\n",
    "\n",
    "#NPGroup.sort_values()\n"
   ]
  },
  {
   "cell_type": "code",
   "execution_count": 14,
   "id": "67f1be9c-fd49-4f2c-8075-cc170f4837b5",
   "metadata": {},
   "outputs": [],
   "source": [
    "MPGroup = MPGroup.sort_values()\n",
    "NPGroup = NPGroup.sort_values()"
   ]
  },
  {
   "cell_type": "code",
   "execution_count": 15,
   "id": "890a2309-b5d7-45b2-b10b-9c7c7ad1766e",
   "metadata": {},
   "outputs": [
    {
     "data": {
      "text/plain": [
       "Company     Date\n",
       "TransnetBW  2020     25.731053\n",
       "            2019     37.772366\n",
       "Amprion     2019    100.572519\n",
       "            2020    101.357143\n",
       "50Hertz     2019    142.473282\n",
       "Name: 12:00:00, dtype: float64"
      ]
     },
     "execution_count": 15,
     "metadata": {},
     "output_type": "execute_result"
    }
   ],
   "source": [
    "NPGroup.head()"
   ]
  },
  {
   "cell_type": "code",
   "execution_count": 16,
   "id": "118367d0-aade-4d86-aa8a-9e98dcbd7bb7",
   "metadata": {},
   "outputs": [
    {
     "data": {
      "image/png": "[encoded data removed]",
      "text/plain": [
       "<Figure size 432x288 with 1 Axes>"
      ]
     },
     "metadata": {
      "needs_background": "light"
     },
     "output_type": "display_data"
    }
   ],
   "source": [
    "MP_fig = MPGroup.plot.barh(MPGroup.index,MPGroup.values)\n",
    "plt.savefig('MP_fig.png',bbox_inches = 'tight', pad_inches = 0.5)"
   ]
  },
  {
   "cell_type": "code",
   "execution_count": 17,
   "id": "aab412bd-dce4-4d76-b26a-c60b17ebd2b5",
   "metadata": {},
   "outputs": [
    {
     "data": {
      "image/png": "[encoded data removed]",
      "text/plain": [
       "<Figure size 432x288 with 1 Axes>"
      ]
     },
     "metadata": {
      "needs_background": "light"
     },
     "output_type": "display_data"
    }
   ],
   "source": [
    "NP_fig = MPGroup.plot.barh(MPGroup.index,MPGroup.values, color = 'maroon')\n",
    "plt.savefig(\"NP_fig.png\", bbox_inches = 'tight', pad_inches = 0.5)"
   ]
  },
  {
   "cell_type": "code",
   "execution_count": 18,
   "id": "122d9246-0a10-46c4-b6e9-fdac6ab77f06",
   "metadata": {},
   "outputs": [
    {
     "data": {
      "image/png": "[encoded data removed]",
      "text/plain": [
       "<Figure size 864x576 with 2 Axes>"
      ]
     },
     "metadata": {
      "needs_background": "light"
     },
     "output_type": "display_data"
    }
   ],
   "source": [
    "fig = plt.figure(figsize = (12,8))\n",
    "\n",
    "#sets the first graph\n",
    "ax1 = fig.add_subplot(211)\n",
    "ax1 = MPGroup.plot.barh(MPGroup.index,MPGroup.values, color = 'silver')\n",
    "#turns off x axis, sets title, turns off y title\n",
    "ax1.xaxis.set_visible(False)\n",
    "ax1.set_title('TW/Hours by Company/Year @ Midnight')\n",
    "plt.ylabel('')\n",
    "\n",
    "#sets the second graph\n",
    "ax2 = fig.add_subplot(212)\n",
    "ax2 = NPGroup.plot.barh(NPGroup.index,NPGroup.values, color = 'grey')\n",
    "#sets title\n",
    "ax2.set_title('TW/Hours by Company/Year @ Noon')\n",
    "plt.ylabel('')\n",
    "plt.xlabel('TW/Hour')\n",
    "#saves file as 'combined_bar_chart.png'\n",
    "plt.savefig('combined_bar_chart.png')"
   ]
  },
  {
   "cell_type": "code",
   "execution_count": null,
   "id": "f20b31ff-43c3-4c93-80f3-edd1b1801f7b",
   "metadata": {},
   "outputs": [],
   "source": []
  },
  {
   "cell_type": "code",
   "execution_count": null,
   "id": "d39da42f-19cd-4f76-b7c5-0fb7df946a74",
   "metadata": {},
   "outputs": [],
   "source": []
  },
  {
   "cell_type": "code",
   "execution_count": null,
   "id": "869cd823-0f03-4fba-9055-e46b9a2fe257",
   "metadata": {
    "tags": []
   },
   "outputs": [],
   "source": [
    "\n"
   ]
  },
  {
   "cell_type": "markdown",
   "id": "b23b147f-b848-4343-aaf6-14ab7eb53de0",
   "metadata": {},
   "source": [
    "CData = dataframe.query(Date == date)\n",
    "    CData = CData.drop(['Date'], axis = 1)\n",
    "    CData = CData.drop(['Company'], axis = 1)\n",
    "    \n",
    "    values = []\n",
    "\n",
    "    for item in CData.values:\n",
    "        for i in item:\n",
    "            values.append(i)\n",
    "    \n",
    "    plot = sns.lineplot(x = CData.columns, y = values, color = color)\n",
    "    l1 = ax.lines[0]\n",
    "    x1 = l1.get_xydata()[:, 0]\n",
    "    y1 = l1.get_xydata()[:, 1]\n",
    "\n",
    "    plot.fill_between(x1, y1, color= color)"
   ]
  },
  {
   "cell_type": "code",
   "execution_count": 19,
   "id": "43955e4e-4786-4c32-8e15-93f666b9c768",
   "metadata": {},
   "outputs": [
    {
     "data": {
      "text/html": [
       "<div>\n",
       "<style scoped>\n",
       "    .dataframe tbody tr th:only-of-type {\n",
       "        vertical-align: middle;\n",
       "    }\n",
       "\n",
       "    .dataframe tbody tr th {\n",
       "        vertical-align: top;\n",
       "    }\n",
       "\n",
       "    .dataframe thead th {\n",
       "        text-align: right;\n",
       "    }\n",
       "</style>\n",
       "<table border=\"1\" class=\"dataframe\">\n",
       "  <thead>\n",
       "    <tr style=\"text-align: right;\">\n",
       "      <th></th>\n",
       "      <th>Company</th>\n",
       "      <th>Date</th>\n",
       "      <th>00:00:00</th>\n",
       "      <th>00:15:00</th>\n",
       "      <th>00:30:00</th>\n",
       "      <th>00:45:00</th>\n",
       "      <th>01:00:00</th>\n",
       "      <th>01:15:00</th>\n",
       "      <th>01:30:00</th>\n",
       "      <th>01:45:00</th>\n",
       "      <th>...</th>\n",
       "      <th>21:30:00</th>\n",
       "      <th>21:45:00</th>\n",
       "      <th>22:00:00</th>\n",
       "      <th>22:15:00</th>\n",
       "      <th>22:30:00</th>\n",
       "      <th>22:45:00</th>\n",
       "      <th>23:00:00</th>\n",
       "      <th>23:15:00</th>\n",
       "      <th>23:30:00</th>\n",
       "      <th>23:45:00</th>\n",
       "    </tr>\n",
       "  </thead>\n",
       "  <tbody>\n",
       "    <tr>\n",
       "      <th>0</th>\n",
       "      <td>50Hertz</td>\n",
       "      <td>2019-08-23</td>\n",
       "      <td>74</td>\n",
       "      <td>73</td>\n",
       "      <td>63</td>\n",
       "      <td>55</td>\n",
       "      <td>54</td>\n",
       "      <td>53</td>\n",
       "      <td>51</td>\n",
       "      <td>52</td>\n",
       "      <td>...</td>\n",
       "      <td>68</td>\n",
       "      <td>68</td>\n",
       "      <td>63</td>\n",
       "      <td>61</td>\n",
       "      <td>57</td>\n",
       "      <td>52</td>\n",
       "      <td>51</td>\n",
       "      <td>49</td>\n",
       "      <td>45</td>\n",
       "      <td>40</td>\n",
       "    </tr>\n",
       "    <tr>\n",
       "      <th>1</th>\n",
       "      <td>50Hertz</td>\n",
       "      <td>2019-08-24</td>\n",
       "      <td>37</td>\n",
       "      <td>38</td>\n",
       "      <td>35</td>\n",
       "      <td>35</td>\n",
       "      <td>31</td>\n",
       "      <td>32</td>\n",
       "      <td>30</td>\n",
       "      <td>29</td>\n",
       "      <td>...</td>\n",
       "      <td>118</td>\n",
       "      <td>118</td>\n",
       "      <td>112</td>\n",
       "      <td>107</td>\n",
       "      <td>104</td>\n",
       "      <td>104</td>\n",
       "      <td>99</td>\n",
       "      <td>95</td>\n",
       "      <td>95</td>\n",
       "      <td>96</td>\n",
       "    </tr>\n",
       "    <tr>\n",
       "      <th>2</th>\n",
       "      <td>50Hertz</td>\n",
       "      <td>2019-08-25</td>\n",
       "      <td>93</td>\n",
       "      <td>88</td>\n",
       "      <td>85</td>\n",
       "      <td>81</td>\n",
       "      <td>76</td>\n",
       "      <td>80</td>\n",
       "      <td>81</td>\n",
       "      <td>76</td>\n",
       "      <td>...</td>\n",
       "      <td>111</td>\n",
       "      <td>108</td>\n",
       "      <td>103</td>\n",
       "      <td>96</td>\n",
       "      <td>93</td>\n",
       "      <td>88</td>\n",
       "      <td>86</td>\n",
       "      <td>82</td>\n",
       "      <td>80</td>\n",
       "      <td>77</td>\n",
       "    </tr>\n",
       "    <tr>\n",
       "      <th>3</th>\n",
       "      <td>50Hertz</td>\n",
       "      <td>2019-08-26</td>\n",
       "      <td>72</td>\n",
       "      <td>66</td>\n",
       "      <td>59</td>\n",
       "      <td>54</td>\n",
       "      <td>48</td>\n",
       "      <td>46</td>\n",
       "      <td>45</td>\n",
       "      <td>43</td>\n",
       "      <td>...</td>\n",
       "      <td>48</td>\n",
       "      <td>47</td>\n",
       "      <td>47</td>\n",
       "      <td>46</td>\n",
       "      <td>47</td>\n",
       "      <td>49</td>\n",
       "      <td>50</td>\n",
       "      <td>51</td>\n",
       "      <td>48</td>\n",
       "      <td>42</td>\n",
       "    </tr>\n",
       "    <tr>\n",
       "      <th>4</th>\n",
       "      <td>50Hertz</td>\n",
       "      <td>2019-08-27</td>\n",
       "      <td>39</td>\n",
       "      <td>38</td>\n",
       "      <td>36</td>\n",
       "      <td>36</td>\n",
       "      <td>34</td>\n",
       "      <td>31</td>\n",
       "      <td>31</td>\n",
       "      <td>30</td>\n",
       "      <td>...</td>\n",
       "      <td>54</td>\n",
       "      <td>53</td>\n",
       "      <td>51</td>\n",
       "      <td>52</td>\n",
       "      <td>51</td>\n",
       "      <td>52</td>\n",
       "      <td>54</td>\n",
       "      <td>54</td>\n",
       "      <td>56</td>\n",
       "      <td>59</td>\n",
       "    </tr>\n",
       "  </tbody>\n",
       "</table>\n",
       "<p>5 rows × 98 columns</p>\n",
       "</div>"
      ],
      "text/plain": [
       "   Company       Date  00:00:00  00:15:00  00:30:00  00:45:00  01:00:00  \\\n",
       "0  50Hertz 2019-08-23        74        73        63        55        54   \n",
       "1  50Hertz 2019-08-24        37        38        35        35        31   \n",
       "2  50Hertz 2019-08-25        93        88        85        81        76   \n",
       "3  50Hertz 2019-08-26        72        66        59        54        48   \n",
       "4  50Hertz 2019-08-27        39        38        36        36        34   \n",
       "\n",
       "   01:15:00  01:30:00  01:45:00  ...  21:30:00  21:45:00  22:00:00  22:15:00  \\\n",
       "0        53        51        52  ...        68        68        63        61   \n",
       "1        32        30        29  ...       118       118       112       107   \n",
       "2        80        81        76  ...       111       108       103        96   \n",
       "3        46        45        43  ...        48        47        47        46   \n",
       "4        31        31        30  ...        54        53        51        52   \n",
       "\n",
       "   22:30:00  22:45:00  23:00:00  23:15:00  23:30:00  23:45:00  \n",
       "0        57        52        51        49        45        40  \n",
       "1       104       104        99        95        95        96  \n",
       "2        93        88        86        82        80        77  \n",
       "3        47        49        50        51        48        42  \n",
       "4        51        52        54        54        56        59  \n",
       "\n",
       "[5 rows x 98 columns]"
      ]
     },
     "execution_count": 19,
     "metadata": {},
     "output_type": "execute_result"
    }
   ],
   "source": [
    "Hertz.head()"
   ]
  },
  {
   "cell_type": "code",
   "execution_count": 20,
   "id": "6a7bb0ad-ff24-4984-aa08-cf9e69842b4c",
   "metadata": {},
   "outputs": [],
   "source": [
    "def daily_view(dataframe,company, date, color, ylim = (0,150),yticks = (0,20,40,60,80,100,120)):\n",
    "        \n",
    "    date = pd.to_datetime(date)\n",
    "    date = date.date()\n",
    "    \n",
    "    dataframe = pd.DataFrame(dataframe)\n",
    "    CName = dataframe.Company[0]\n",
    "    \n",
    "    CData = dataframe.query(\"Date == @date\")\n",
    "    CData = CData.drop(['Date', 'Company'], axis = 1)\n",
    "    #print(CData.head())\n",
    "    \n",
    "    values = []\n",
    "\n",
    "    for item in CData.values:\n",
    "        for i in item:\n",
    "            values.append(i)\n",
    "    \n",
    "    #Builds the lineplot\n",
    "    plot = sns.lineplot(x = CData.columns, y = values, color = color)\n",
    "    plot.set_xticks(['00:00:00','05:00:00','10:00:00','15:00:00','20:00:00'])\n",
    "    plot.set_yticks(yticks)\n",
    "    \n",
    "    #sets title,axis,fill, and set \n",
    "    plot.set_title(\"Power Production: \"+ CName + \"/\" + date.strftime(\"%Y-%m-%d\"))\n",
    "    plot.set_xlabel(\"Time of Day\")\n",
    "    plot.set_ylabel(\"TW/h Generated\")\n",
    "    plot.fill_between(CData.columns, values, color= color)\n",
    "    plot.set(ylim= ylim)\n",
    "    "
   ]
  },
  {
   "cell_type": "code",
   "execution_count": 21,
   "id": "8e37d874-0a12-4643-b5d4-c9e4b88b5825",
   "metadata": {},
   "outputs": [
    {
     "data": {
      "image/png": "[encoded data removed]",
      "text/plain": [
       "<Figure size 432x288 with 1 Axes>"
      ]
     },
     "metadata": {
      "needs_background": "light"
     },
     "output_type": "display_data"
    }
   ],
   "source": [
    "daily_view(Hertz, \"50Hertz\", '8/24/2019', \"red\", (0,130))"
   ]
  },
  {
   "cell_type": "code",
   "execution_count": 22,
   "id": "0d779783-622a-4b10-a87b-14758e7a9541",
   "metadata": {},
   "outputs": [
    {
     "data": {
      "image/png": "[encoded data removed]",
      "text/plain": [
       "<Figure size 1440x864 with 4 Axes>"
      ]
     },
     "metadata": {
      "needs_background": "light"
     },
     "output_type": "display_data"
    }
   ],
   "source": [
    "fig, axes = plt.subplots(2,2, figsize = (20,12))\n",
    "\n",
    "p1 = plt.subplot(221)\n",
    "p1 = daily_view(Hertz, \"50Hertz\", '8/24/2019', \"red\", (0,130), (0,25,50,75,100,125))\n",
    "\n",
    "p2 = plt.subplot(222)\n",
    "p2 = daily_view(Amprion, \"Amprion\", '8/24/2019', \"green\", (0,65),(0,20,40,60))\n",
    "\n",
    "p3 = plt.subplot(223)\n",
    "p3 = daily_view(Tenne,\"TenneTTSO\", '8/24/2019', \"blue\",(0,125), (0,25,50,75,100,125))\n",
    "\n",
    "p4 = plt.subplot(224)\n",
    "p4 = daily_view(Transnet, \"TransnetBW\",'8/24/2019',\"purple\",(0,26),(0,5,10,15,20,25))"
   ]
  },
  {
   "cell_type": "markdown",
   "id": "953c52c0-5f5f-4831-9e6e-26c505f7bd37",
   "metadata": {},
   "source": [
    "# Part 2"
   ]
  },
  {
   "cell_type": "code",
   "execution_count": 23,
   "id": "ff5a59e3-35d7-4edb-80bd-e84967dd47a8",
   "metadata": {},
   "outputs": [],
   "source": [
    "Tips = sns.load_dataset('tips')"
   ]
  },
  {
   "cell_type": "code",
   "execution_count": 24,
   "id": "56b9462e-585b-4c12-998c-f33fa31b5581",
   "metadata": {},
   "outputs": [],
   "source": [
    "FTips = Tips.query(\"sex == 'Female'\" )\n"
   ]
  },
  {
   "cell_type": "code",
   "execution_count": 25,
   "id": "f9c7ded1-a6db-47bb-a786-760f27252ae9",
   "metadata": {},
   "outputs": [
    {
     "data": {
      "text/html": [
       "<div>\n",
       "<style scoped>\n",
       "    .dataframe tbody tr th:only-of-type {\n",
       "        vertical-align: middle;\n",
       "    }\n",
       "\n",
       "    .dataframe tbody tr th {\n",
       "        vertical-align: top;\n",
       "    }\n",
       "\n",
       "    .dataframe thead th {\n",
       "        text-align: right;\n",
       "    }\n",
       "</style>\n",
       "<table border=\"1\" class=\"dataframe\">\n",
       "  <thead>\n",
       "    <tr style=\"text-align: right;\">\n",
       "      <th></th>\n",
       "      <th>total_bill</th>\n",
       "      <th>tip</th>\n",
       "      <th>sex</th>\n",
       "      <th>smoker</th>\n",
       "      <th>day</th>\n",
       "      <th>time</th>\n",
       "      <th>size</th>\n",
       "    </tr>\n",
       "  </thead>\n",
       "  <tbody>\n",
       "    <tr>\n",
       "      <th>0</th>\n",
       "      <td>16.99</td>\n",
       "      <td>1.01</td>\n",
       "      <td>Female</td>\n",
       "      <td>No</td>\n",
       "      <td>Sun</td>\n",
       "      <td>Dinner</td>\n",
       "      <td>2</td>\n",
       "    </tr>\n",
       "    <tr>\n",
       "      <th>4</th>\n",
       "      <td>24.59</td>\n",
       "      <td>3.61</td>\n",
       "      <td>Female</td>\n",
       "      <td>No</td>\n",
       "      <td>Sun</td>\n",
       "      <td>Dinner</td>\n",
       "      <td>4</td>\n",
       "    </tr>\n",
       "    <tr>\n",
       "      <th>11</th>\n",
       "      <td>35.26</td>\n",
       "      <td>5.00</td>\n",
       "      <td>Female</td>\n",
       "      <td>No</td>\n",
       "      <td>Sun</td>\n",
       "      <td>Dinner</td>\n",
       "      <td>4</td>\n",
       "    </tr>\n",
       "    <tr>\n",
       "      <th>14</th>\n",
       "      <td>14.83</td>\n",
       "      <td>3.02</td>\n",
       "      <td>Female</td>\n",
       "      <td>No</td>\n",
       "      <td>Sun</td>\n",
       "      <td>Dinner</td>\n",
       "      <td>2</td>\n",
       "    </tr>\n",
       "    <tr>\n",
       "      <th>16</th>\n",
       "      <td>10.33</td>\n",
       "      <td>1.67</td>\n",
       "      <td>Female</td>\n",
       "      <td>No</td>\n",
       "      <td>Sun</td>\n",
       "      <td>Dinner</td>\n",
       "      <td>3</td>\n",
       "    </tr>\n",
       "  </tbody>\n",
       "</table>\n",
       "</div>"
      ],
      "text/plain": [
       "    total_bill   tip     sex smoker  day    time  size\n",
       "0        16.99  1.01  Female     No  Sun  Dinner     2\n",
       "4        24.59  3.61  Female     No  Sun  Dinner     4\n",
       "11       35.26  5.00  Female     No  Sun  Dinner     4\n",
       "14       14.83  3.02  Female     No  Sun  Dinner     2\n",
       "16       10.33  1.67  Female     No  Sun  Dinner     3"
      ]
     },
     "execution_count": 25,
     "metadata": {},
     "output_type": "execute_result"
    }
   ],
   "source": [
    "FTips.head()"
   ]
  },
  {
   "cell_type": "code",
   "execution_count": 26,
   "id": "48c4c549-1655-43ed-99ae-f2ef4179ce14",
   "metadata": {},
   "outputs": [],
   "source": [
    "FTips = FTips.drop([\"total_bill\",\"size\"], axis = 1)"
   ]
  },
  {
   "cell_type": "code",
   "execution_count": 27,
   "id": "2a810c0b-b6b5-4bba-97b3-f82b519141fd",
   "metadata": {},
   "outputs": [
    {
     "data": {
      "text/html": [
       "<div>\n",
       "<style scoped>\n",
       "    .dataframe tbody tr th:only-of-type {\n",
       "        vertical-align: middle;\n",
       "    }\n",
       "\n",
       "    .dataframe tbody tr th {\n",
       "        vertical-align: top;\n",
       "    }\n",
       "\n",
       "    .dataframe thead th {\n",
       "        text-align: right;\n",
       "    }\n",
       "</style>\n",
       "<table border=\"1\" class=\"dataframe\">\n",
       "  <thead>\n",
       "    <tr style=\"text-align: right;\">\n",
       "      <th></th>\n",
       "      <th>tip</th>\n",
       "      <th>sex</th>\n",
       "      <th>smoker</th>\n",
       "      <th>day</th>\n",
       "      <th>time</th>\n",
       "    </tr>\n",
       "  </thead>\n",
       "  <tbody>\n",
       "    <tr>\n",
       "      <th>0</th>\n",
       "      <td>1.01</td>\n",
       "      <td>Female</td>\n",
       "      <td>No</td>\n",
       "      <td>Sun</td>\n",
       "      <td>Dinner</td>\n",
       "    </tr>\n",
       "    <tr>\n",
       "      <th>4</th>\n",
       "      <td>3.61</td>\n",
       "      <td>Female</td>\n",
       "      <td>No</td>\n",
       "      <td>Sun</td>\n",
       "      <td>Dinner</td>\n",
       "    </tr>\n",
       "    <tr>\n",
       "      <th>11</th>\n",
       "      <td>5.00</td>\n",
       "      <td>Female</td>\n",
       "      <td>No</td>\n",
       "      <td>Sun</td>\n",
       "      <td>Dinner</td>\n",
       "    </tr>\n",
       "    <tr>\n",
       "      <th>14</th>\n",
       "      <td>3.02</td>\n",
       "      <td>Female</td>\n",
       "      <td>No</td>\n",
       "      <td>Sun</td>\n",
       "      <td>Dinner</td>\n",
       "    </tr>\n",
       "    <tr>\n",
       "      <th>16</th>\n",
       "      <td>1.67</td>\n",
       "      <td>Female</td>\n",
       "      <td>No</td>\n",
       "      <td>Sun</td>\n",
       "      <td>Dinner</td>\n",
       "    </tr>\n",
       "  </tbody>\n",
       "</table>\n",
       "</div>"
      ],
      "text/plain": [
       "     tip     sex smoker  day    time\n",
       "0   1.01  Female     No  Sun  Dinner\n",
       "4   3.61  Female     No  Sun  Dinner\n",
       "11  5.00  Female     No  Sun  Dinner\n",
       "14  3.02  Female     No  Sun  Dinner\n",
       "16  1.67  Female     No  Sun  Dinner"
      ]
     },
     "execution_count": 27,
     "metadata": {},
     "output_type": "execute_result"
    }
   ],
   "source": [
    "FTips.head()"
   ]
  },
  {
   "cell_type": "code",
   "execution_count": 28,
   "id": "95b99fef-7810-422e-98b3-f1123312e62b",
   "metadata": {},
   "outputs": [
    {
     "data": {
      "image/png": "[encoded data removed]",
      "text/plain": [
       "<Figure size 432x288 with 1 Axes>"
      ]
     },
     "metadata": {
      "needs_background": "light"
     },
     "output_type": "display_data"
    }
   ],
   "source": [
    "WomenLC = sns.lineplot(data = FTips, x = 'day', y = 'tip')"
   ]
  },
  {
   "cell_type": "code",
   "execution_count": 29,
   "id": "01c4684a-84b2-426d-b930-bd336d58f8e4",
   "metadata": {},
   "outputs": [],
   "source": [
    "MTips= Tips.query(\"sex == 'Male'\")"
   ]
  },
  {
   "cell_type": "code",
   "execution_count": 30,
   "id": "09090bc5-ca82-473e-8e04-68e7f72a652e",
   "metadata": {},
   "outputs": [
    {
     "data": {
      "text/html": [
       "<div>\n",
       "<style scoped>\n",
       "    .dataframe tbody tr th:only-of-type {\n",
       "        vertical-align: middle;\n",
       "    }\n",
       "\n",
       "    .dataframe tbody tr th {\n",
       "        vertical-align: top;\n",
       "    }\n",
       "\n",
       "    .dataframe thead th {\n",
       "        text-align: right;\n",
       "    }\n",
       "</style>\n",
       "<table border=\"1\" class=\"dataframe\">\n",
       "  <thead>\n",
       "    <tr style=\"text-align: right;\">\n",
       "      <th></th>\n",
       "      <th>total_bill</th>\n",
       "      <th>tip</th>\n",
       "      <th>sex</th>\n",
       "      <th>smoker</th>\n",
       "      <th>day</th>\n",
       "      <th>time</th>\n",
       "      <th>size</th>\n",
       "    </tr>\n",
       "  </thead>\n",
       "  <tbody>\n",
       "    <tr>\n",
       "      <th>1</th>\n",
       "      <td>10.34</td>\n",
       "      <td>1.66</td>\n",
       "      <td>Male</td>\n",
       "      <td>No</td>\n",
       "      <td>Sun</td>\n",
       "      <td>Dinner</td>\n",
       "      <td>3</td>\n",
       "    </tr>\n",
       "    <tr>\n",
       "      <th>2</th>\n",
       "      <td>21.01</td>\n",
       "      <td>3.50</td>\n",
       "      <td>Male</td>\n",
       "      <td>No</td>\n",
       "      <td>Sun</td>\n",
       "      <td>Dinner</td>\n",
       "      <td>3</td>\n",
       "    </tr>\n",
       "    <tr>\n",
       "      <th>3</th>\n",
       "      <td>23.68</td>\n",
       "      <td>3.31</td>\n",
       "      <td>Male</td>\n",
       "      <td>No</td>\n",
       "      <td>Sun</td>\n",
       "      <td>Dinner</td>\n",
       "      <td>2</td>\n",
       "    </tr>\n",
       "    <tr>\n",
       "      <th>5</th>\n",
       "      <td>25.29</td>\n",
       "      <td>4.71</td>\n",
       "      <td>Male</td>\n",
       "      <td>No</td>\n",
       "      <td>Sun</td>\n",
       "      <td>Dinner</td>\n",
       "      <td>4</td>\n",
       "    </tr>\n",
       "    <tr>\n",
       "      <th>6</th>\n",
       "      <td>8.77</td>\n",
       "      <td>2.00</td>\n",
       "      <td>Male</td>\n",
       "      <td>No</td>\n",
       "      <td>Sun</td>\n",
       "      <td>Dinner</td>\n",
       "      <td>2</td>\n",
       "    </tr>\n",
       "  </tbody>\n",
       "</table>\n",
       "</div>"
      ],
      "text/plain": [
       "   total_bill   tip   sex smoker  day    time  size\n",
       "1       10.34  1.66  Male     No  Sun  Dinner     3\n",
       "2       21.01  3.50  Male     No  Sun  Dinner     3\n",
       "3       23.68  3.31  Male     No  Sun  Dinner     2\n",
       "5       25.29  4.71  Male     No  Sun  Dinner     4\n",
       "6        8.77  2.00  Male     No  Sun  Dinner     2"
      ]
     },
     "execution_count": 30,
     "metadata": {},
     "output_type": "execute_result"
    }
   ],
   "source": [
    "MTips.head(5)"
   ]
  },
  {
   "cell_type": "code",
   "execution_count": 31,
   "id": "e5fc5ac8-a4f7-4ef9-9024-b22885289b32",
   "metadata": {},
   "outputs": [
    {
     "data": {
      "image/png": "[encoded data removed]",
      "text/plain": [
       "<Figure size 432x288 with 1 Axes>"
      ]
     },
     "metadata": {
      "needs_background": "light"
     },
     "output_type": "display_data"
    }
   ],
   "source": [
    "MenLC = sns.lineplot(data = MTips, x = 'day', y = 'tip')"
   ]
  },
  {
   "cell_type": "code",
   "execution_count": 32,
   "id": "c99e89f9-c029-439b-b63f-f4ff18c8acc2",
   "metadata": {},
   "outputs": [],
   "source": [
    "WBox = Tips.query(\"sex == 'Female'\")"
   ]
  },
  {
   "cell_type": "code",
   "execution_count": 33,
   "id": "89e2c354-581a-42ed-9a8a-6cb5e1614365",
   "metadata": {},
   "outputs": [],
   "source": [
    "WBox = WBox.drop(['tip','size'], axis = 1)"
   ]
  },
  {
   "cell_type": "code",
   "execution_count": 34,
   "id": "92ed5fa3-fc76-4863-8fc0-678d50903242",
   "metadata": {},
   "outputs": [
    {
     "data": {
      "text/plain": [
       "<AxesSubplot:>"
      ]
     },
     "execution_count": 34,
     "metadata": {},
     "output_type": "execute_result"
    },
    {
     "data": {
      "image/png": "[encoded data removed]",
      "text/plain": [
       "<Figure size 432x288 with 1 Axes>"
      ]
     },
     "metadata": {
      "needs_background": "light"
     },
     "output_type": "display_data"
    }
   ],
   "source": [
    "sns.boxplot(data = WBox)"
   ]
  },
  {
   "cell_type": "code",
   "execution_count": 35,
   "id": "fad195b5-74a7-4c60-80e0-77c1c6d0dccc",
   "metadata": {},
   "outputs": [
    {
     "data": {
      "text/plain": [
       "{'whiskers': [<matplotlib.lines.Line2D at 0x1d6c0425250>,\n",
       "  <matplotlib.lines.Line2D at 0x1d6c04255b0>],\n",
       " 'caps': [<matplotlib.lines.Line2D at 0x1d6c0425910>,\n",
       "  <matplotlib.lines.Line2D at 0x1d6c0425c70>],\n",
       " 'boxes': [<matplotlib.lines.Line2D at 0x1d6c0415eb0>],\n",
       " 'medians': [<matplotlib.lines.Line2D at 0x1d6c0425fd0>],\n",
       " 'fliers': [<matplotlib.lines.Line2D at 0x1d6c0432370>],\n",
       " 'means': []}"
      ]
     },
     "execution_count": 35,
     "metadata": {},
     "output_type": "execute_result"
    },
    {
     "data": {
      "image/png": "[encoded data removed]",
      "text/plain": [
       "<Figure size 432x288 with 1 Axes>"
      ]
     },
     "metadata": {
      "needs_background": "light"
     },
     "output_type": "display_data"
    }
   ],
   "source": [
    "plt.boxplot(WBox.total_bill)"
   ]
  },
  {
   "cell_type": "code",
   "execution_count": 36,
   "id": "4b69cbb5-c282-4f30-a964-d2bc10de3a0d",
   "metadata": {},
   "outputs": [],
   "source": [
    "MBox = Tips.query('sex == \"Male\"')"
   ]
  },
  {
   "cell_type": "code",
   "execution_count": 37,
   "id": "6eb5967a-9fb6-430e-84dc-4daac0c456ff",
   "metadata": {},
   "outputs": [],
   "source": [
    "MBox = MBox.drop(['tip','size'], axis = 1)"
   ]
  },
  {
   "cell_type": "code",
   "execution_count": 38,
   "id": "d8bde3ec-c8cc-4487-acf2-708d86346e3e",
   "metadata": {},
   "outputs": [
    {
     "data": {
      "text/plain": [
       "<AxesSubplot:>"
      ]
     },
     "execution_count": 38,
     "metadata": {},
     "output_type": "execute_result"
    },
    {
     "data": {
      "image/png": "[encoded data removed]",
      "text/plain": [
       "<Figure size 432x288 with 1 Axes>"
      ]
     },
     "metadata": {
      "needs_background": "light"
     },
     "output_type": "display_data"
    }
   ],
   "source": [
    "sns.boxplot(data=MBox)"
   ]
  },
  {
   "cell_type": "code",
   "execution_count": 39,
   "id": "84842849-da42-4236-9d89-48b97917119f",
   "metadata": {},
   "outputs": [
    {
     "data": {
      "text/plain": [
       "{'whiskers': [<matplotlib.lines.Line2D at 0x1d6c04d7370>,\n",
       "  <matplotlib.lines.Line2D at 0x1d6c04d76d0>],\n",
       " 'caps': [<matplotlib.lines.Line2D at 0x1d6c04d7a30>,\n",
       "  <matplotlib.lines.Line2D at 0x1d6c04d7d90>],\n",
       " 'boxes': [<matplotlib.lines.Line2D at 0x1d6c04c8fd0>],\n",
       " 'medians': [<matplotlib.lines.Line2D at 0x1d6c04e2130>],\n",
       " 'fliers': [<matplotlib.lines.Line2D at 0x1d6c04e2490>],\n",
       " 'means': []}"
      ]
     },
     "execution_count": 39,
     "metadata": {},
     "output_type": "execute_result"
    },
    {
     "data": {
      "image/png": "[encoded data removed]",
      "text/plain": [
       "<Figure size 432x288 with 1 Axes>"
      ]
     },
     "metadata": {
      "needs_background": "light"
     },
     "output_type": "display_data"
    }
   ],
   "source": [
    "plt.boxplot(MBox.total_bill)"
   ]
  },
  {
   "cell_type": "code",
   "execution_count": 40,
   "id": "625b6edc-62e1-4062-97d1-354a638a042b",
   "metadata": {},
   "outputs": [
    {
     "data": {
      "text/html": [
       "<div>\n",
       "<style scoped>\n",
       "    .dataframe tbody tr th:only-of-type {\n",
       "        vertical-align: middle;\n",
       "    }\n",
       "\n",
       "    .dataframe tbody tr th {\n",
       "        vertical-align: top;\n",
       "    }\n",
       "\n",
       "    .dataframe thead th {\n",
       "        text-align: right;\n",
       "    }\n",
       "</style>\n",
       "<table border=\"1\" class=\"dataframe\">\n",
       "  <thead>\n",
       "    <tr style=\"text-align: right;\">\n",
       "      <th></th>\n",
       "      <th>total_bill</th>\n",
       "      <th>tip</th>\n",
       "      <th>sex</th>\n",
       "      <th>smoker</th>\n",
       "      <th>day</th>\n",
       "      <th>time</th>\n",
       "      <th>size</th>\n",
       "    </tr>\n",
       "  </thead>\n",
       "  <tbody>\n",
       "    <tr>\n",
       "      <th>0</th>\n",
       "      <td>16.99</td>\n",
       "      <td>1.01</td>\n",
       "      <td>Female</td>\n",
       "      <td>No</td>\n",
       "      <td>Sun</td>\n",
       "      <td>Dinner</td>\n",
       "      <td>2</td>\n",
       "    </tr>\n",
       "    <tr>\n",
       "      <th>1</th>\n",
       "      <td>10.34</td>\n",
       "      <td>1.66</td>\n",
       "      <td>Male</td>\n",
       "      <td>No</td>\n",
       "      <td>Sun</td>\n",
       "      <td>Dinner</td>\n",
       "      <td>3</td>\n",
       "    </tr>\n",
       "    <tr>\n",
       "      <th>2</th>\n",
       "      <td>21.01</td>\n",
       "      <td>3.50</td>\n",
       "      <td>Male</td>\n",
       "      <td>No</td>\n",
       "      <td>Sun</td>\n",
       "      <td>Dinner</td>\n",
       "      <td>3</td>\n",
       "    </tr>\n",
       "    <tr>\n",
       "      <th>3</th>\n",
       "      <td>23.68</td>\n",
       "      <td>3.31</td>\n",
       "      <td>Male</td>\n",
       "      <td>No</td>\n",
       "      <td>Sun</td>\n",
       "      <td>Dinner</td>\n",
       "      <td>2</td>\n",
       "    </tr>\n",
       "    <tr>\n",
       "      <th>4</th>\n",
       "      <td>24.59</td>\n",
       "      <td>3.61</td>\n",
       "      <td>Female</td>\n",
       "      <td>No</td>\n",
       "      <td>Sun</td>\n",
       "      <td>Dinner</td>\n",
       "      <td>4</td>\n",
       "    </tr>\n",
       "  </tbody>\n",
       "</table>\n",
       "</div>"
      ],
      "text/plain": [
       "   total_bill   tip     sex smoker  day    time  size\n",
       "0       16.99  1.01  Female     No  Sun  Dinner     2\n",
       "1       10.34  1.66    Male     No  Sun  Dinner     3\n",
       "2       21.01  3.50    Male     No  Sun  Dinner     3\n",
       "3       23.68  3.31    Male     No  Sun  Dinner     2\n",
       "4       24.59  3.61  Female     No  Sun  Dinner     4"
      ]
     },
     "execution_count": 40,
     "metadata": {},
     "output_type": "execute_result"
    }
   ],
   "source": [
    "Tips.head()"
   ]
  },
  {
   "cell_type": "code",
   "execution_count": 41,
   "id": "fceeb0ad-961d-42e6-a47f-126666189806",
   "metadata": {},
   "outputs": [],
   "source": [
    "#ammount of people that visited each day"
   ]
  },
  {
   "cell_type": "code",
   "execution_count": 42,
   "id": "932a867d-e274-4938-ad73-a1cb357c0d88",
   "metadata": {},
   "outputs": [
    {
     "data": {
      "text/plain": [
       "<seaborn.axisgrid.FacetGrid at 0x1d6c0394ac0>"
      ]
     },
     "execution_count": 42,
     "metadata": {},
     "output_type": "execute_result"
    },
    {
     "data": {
      "image/png": "[encoded data removed]",
      "text/plain": [
       "<Figure size 360x360 with 1 Axes>"
      ]
     },
     "metadata": {
      "needs_background": "light"
     },
     "output_type": "display_data"
    }
   ],
   "source": [
    "sns.displot(Tips, x = \"day\")"
   ]
  },
  {
   "cell_type": "code",
   "execution_count": 43,
   "id": "98f1834f-06e9-4c0c-b79f-137180db8cf7",
   "metadata": {},
   "outputs": [
    {
     "data": {
      "text/plain": [
       "['anagrams',\n",
       " 'anscombe',\n",
       " 'attention',\n",
       " 'brain_networks',\n",
       " 'car_crashes',\n",
       " 'diamonds',\n",
       " 'dots',\n",
       " 'exercise',\n",
       " 'flights',\n",
       " 'fmri',\n",
       " 'gammas',\n",
       " 'geyser',\n",
       " 'iris',\n",
       " 'mpg',\n",
       " 'penguins',\n",
       " 'planets',\n",
       " 'taxis',\n",
       " 'tips',\n",
       " 'titanic']"
      ]
     },
     "execution_count": 43,
     "metadata": {},
     "output_type": "execute_result"
    }
   ],
   "source": [
    "sns.get_dataset_names()"
   ]
  },
  {
   "cell_type": "code",
   "execution_count": 44,
   "id": "783ec526-24ab-471d-9a24-b998ecf3df46",
   "metadata": {},
   "outputs": [],
   "source": [
    "BN = sns.load_dataset('car_crashes')"
   ]
  },
  {
   "cell_type": "code",
   "execution_count": 45,
   "id": "db891e70-3329-407c-9ff5-3d3db991c84a",
   "metadata": {},
   "outputs": [
    {
     "data": {
      "text/html": [
       "<div>\n",
       "<style scoped>\n",
       "    .dataframe tbody tr th:only-of-type {\n",
       "        vertical-align: middle;\n",
       "    }\n",
       "\n",
       "    .dataframe tbody tr th {\n",
       "        vertical-align: top;\n",
       "    }\n",
       "\n",
       "    .dataframe thead th {\n",
       "        text-align: right;\n",
       "    }\n",
       "</style>\n",
       "<table border=\"1\" class=\"dataframe\">\n",
       "  <thead>\n",
       "    <tr style=\"text-align: right;\">\n",
       "      <th></th>\n",
       "      <th>total</th>\n",
       "      <th>speeding</th>\n",
       "      <th>alcohol</th>\n",
       "      <th>not_distracted</th>\n",
       "      <th>no_previous</th>\n",
       "      <th>ins_premium</th>\n",
       "      <th>ins_losses</th>\n",
       "      <th>abbrev</th>\n",
       "    </tr>\n",
       "  </thead>\n",
       "  <tbody>\n",
       "    <tr>\n",
       "      <th>0</th>\n",
       "      <td>18.8</td>\n",
       "      <td>7.332</td>\n",
       "      <td>5.640</td>\n",
       "      <td>18.048</td>\n",
       "      <td>15.040</td>\n",
       "      <td>784.55</td>\n",
       "      <td>145.08</td>\n",
       "      <td>AL</td>\n",
       "    </tr>\n",
       "    <tr>\n",
       "      <th>1</th>\n",
       "      <td>18.1</td>\n",
       "      <td>7.421</td>\n",
       "      <td>4.525</td>\n",
       "      <td>16.290</td>\n",
       "      <td>17.014</td>\n",
       "      <td>1053.48</td>\n",
       "      <td>133.93</td>\n",
       "      <td>AK</td>\n",
       "    </tr>\n",
       "    <tr>\n",
       "      <th>2</th>\n",
       "      <td>18.6</td>\n",
       "      <td>6.510</td>\n",
       "      <td>5.208</td>\n",
       "      <td>15.624</td>\n",
       "      <td>17.856</td>\n",
       "      <td>899.47</td>\n",
       "      <td>110.35</td>\n",
       "      <td>AZ</td>\n",
       "    </tr>\n",
       "    <tr>\n",
       "      <th>3</th>\n",
       "      <td>22.4</td>\n",
       "      <td>4.032</td>\n",
       "      <td>5.824</td>\n",
       "      <td>21.056</td>\n",
       "      <td>21.280</td>\n",
       "      <td>827.34</td>\n",
       "      <td>142.39</td>\n",
       "      <td>AR</td>\n",
       "    </tr>\n",
       "    <tr>\n",
       "      <th>4</th>\n",
       "      <td>12.0</td>\n",
       "      <td>4.200</td>\n",
       "      <td>3.360</td>\n",
       "      <td>10.920</td>\n",
       "      <td>10.680</td>\n",
       "      <td>878.41</td>\n",
       "      <td>165.63</td>\n",
       "      <td>CA</td>\n",
       "    </tr>\n",
       "  </tbody>\n",
       "</table>\n",
       "</div>"
      ],
      "text/plain": [
       "   total  speeding  alcohol  not_distracted  no_previous  ins_premium  \\\n",
       "0   18.8     7.332    5.640          18.048       15.040       784.55   \n",
       "1   18.1     7.421    4.525          16.290       17.014      1053.48   \n",
       "2   18.6     6.510    5.208          15.624       17.856       899.47   \n",
       "3   22.4     4.032    5.824          21.056       21.280       827.34   \n",
       "4   12.0     4.200    3.360          10.920       10.680       878.41   \n",
       "\n",
       "   ins_losses abbrev  \n",
       "0      145.08     AL  \n",
       "1      133.93     AK  \n",
       "2      110.35     AZ  \n",
       "3      142.39     AR  \n",
       "4      165.63     CA  "
      ]
     },
     "execution_count": 45,
     "metadata": {},
     "output_type": "execute_result"
    }
   ],
   "source": [
    "BN.head()"
   ]
  },
  {
   "cell_type": "code",
   "execution_count": 46,
   "id": "5101158e-c6f6-4fe0-8045-d38692a627c3",
   "metadata": {},
   "outputs": [],
   "source": [
    "BN.reset_index(inplace = True)"
   ]
  },
  {
   "cell_type": "code",
   "execution_count": 47,
   "id": "a69eb29b-e2f8-4ba5-b28d-3b120212c05b",
   "metadata": {},
   "outputs": [
    {
     "data": {
      "text/plain": [
       "<AxesSubplot:xlabel='index', ylabel='abbrev'>"
      ]
     },
     "execution_count": 47,
     "metadata": {},
     "output_type": "execute_result"
    },
    {
     "data": {
      "image/png": "[encoded data removed]",
      "text/plain": [
       "<Figure size 432x288 with 2 Axes>"
      ]
     },
     "metadata": {
      "needs_background": "light"
     },
     "output_type": "display_data"
    }
   ],
   "source": [
    "Tips.sample(5)\n",
    "#Tips.pivot('total_bill',\"tip\",\"sex\")\n",
    "BNP = BN.pivot('abbrev','index','total')\n",
    "sns.heatmap(BNP)"
   ]
  },
  {
   "cell_type": "code",
   "execution_count": 48,
   "id": "fa8172a2-e61f-4ee7-9234-a45290a5c357",
   "metadata": {},
   "outputs": [
    {
     "data": {
      "text/plain": [
       "<seaborn.axisgrid.PairGrid at 0x1d6c05679a0>"
      ]
     },
     "execution_count": 48,
     "metadata": {},
     "output_type": "execute_result"
    },
    {
     "data": {
      "image/png": "[encoded data removed]",
      "text/plain": [
       "<Figure size 612.125x540 with 12 Axes>"
      ]
     },
     "metadata": {
      "needs_background": "light"
     },
     "output_type": "display_data"
    }
   ],
   "source": [
    "sns.pairplot(Tips[['total_bill','tip','sex','smoker','day','time','size']], hue = 'sex')"
   ]
  },
  {
   "cell_type": "code",
   "execution_count": 49,
   "id": "b4ce16c1-8448-4c17-9f0f-528f918dbef3",
   "metadata": {},
   "outputs": [
    {
     "data": {
      "text/plain": [
       "Index(['total_bill', 'tip', 'sex', 'smoker', 'day', 'time', 'size'], dtype='object')"
      ]
     },
     "execution_count": 49,
     "metadata": {},
     "output_type": "execute_result"
    }
   ],
   "source": [
    "Tips.columns"
   ]
  },
  {
   "cell_type": "code",
   "execution_count": 50,
   "id": "18ab2bc6-4fd8-4a34-947d-85531f122203",
   "metadata": {},
   "outputs": [],
   "source": [
    "ex = sns.load_dataset(\"exercise\")"
   ]
  },
  {
   "cell_type": "code",
   "execution_count": 51,
   "id": "9684e4d3-0016-49ba-bd4f-dab0d8bc1355",
   "metadata": {},
   "outputs": [
    {
     "data": {
      "text/html": [
       "<div>\n",
       "<style scoped>\n",
       "    .dataframe tbody tr th:only-of-type {\n",
       "        vertical-align: middle;\n",
       "    }\n",
       "\n",
       "    .dataframe tbody tr th {\n",
       "        vertical-align: top;\n",
       "    }\n",
       "\n",
       "    .dataframe thead th {\n",
       "        text-align: right;\n",
       "    }\n",
       "</style>\n",
       "<table border=\"1\" class=\"dataframe\">\n",
       "  <thead>\n",
       "    <tr style=\"text-align: right;\">\n",
       "      <th></th>\n",
       "      <th>Unnamed: 0</th>\n",
       "      <th>id</th>\n",
       "      <th>diet</th>\n",
       "      <th>pulse</th>\n",
       "      <th>time</th>\n",
       "      <th>kind</th>\n",
       "    </tr>\n",
       "  </thead>\n",
       "  <tbody>\n",
       "    <tr>\n",
       "      <th>78</th>\n",
       "      <td>78</td>\n",
       "      <td>27</td>\n",
       "      <td>no fat</td>\n",
       "      <td>100</td>\n",
       "      <td>1 min</td>\n",
       "      <td>running</td>\n",
       "    </tr>\n",
       "    <tr>\n",
       "      <th>62</th>\n",
       "      <td>62</td>\n",
       "      <td>21</td>\n",
       "      <td>low fat</td>\n",
       "      <td>110</td>\n",
       "      <td>30 min</td>\n",
       "      <td>running</td>\n",
       "    </tr>\n",
       "    <tr>\n",
       "      <th>65</th>\n",
       "      <td>65</td>\n",
       "      <td>22</td>\n",
       "      <td>low fat</td>\n",
       "      <td>112</td>\n",
       "      <td>30 min</td>\n",
       "      <td>running</td>\n",
       "    </tr>\n",
       "    <tr>\n",
       "      <th>44</th>\n",
       "      <td>44</td>\n",
       "      <td>15</td>\n",
       "      <td>low fat</td>\n",
       "      <td>95</td>\n",
       "      <td>30 min</td>\n",
       "      <td>walking</td>\n",
       "    </tr>\n",
       "    <tr>\n",
       "      <th>20</th>\n",
       "      <td>20</td>\n",
       "      <td>7</td>\n",
       "      <td>no fat</td>\n",
       "      <td>90</td>\n",
       "      <td>30 min</td>\n",
       "      <td>rest</td>\n",
       "    </tr>\n",
       "    <tr>\n",
       "      <th>54</th>\n",
       "      <td>54</td>\n",
       "      <td>19</td>\n",
       "      <td>no fat</td>\n",
       "      <td>97</td>\n",
       "      <td>1 min</td>\n",
       "      <td>walking</td>\n",
       "    </tr>\n",
       "    <tr>\n",
       "      <th>63</th>\n",
       "      <td>63</td>\n",
       "      <td>22</td>\n",
       "      <td>low fat</td>\n",
       "      <td>98</td>\n",
       "      <td>1 min</td>\n",
       "      <td>running</td>\n",
       "    </tr>\n",
       "    <tr>\n",
       "      <th>73</th>\n",
       "      <td>73</td>\n",
       "      <td>25</td>\n",
       "      <td>low fat</td>\n",
       "      <td>110</td>\n",
       "      <td>15 min</td>\n",
       "      <td>running</td>\n",
       "    </tr>\n",
       "    <tr>\n",
       "      <th>52</th>\n",
       "      <td>52</td>\n",
       "      <td>18</td>\n",
       "      <td>no fat</td>\n",
       "      <td>96</td>\n",
       "      <td>15 min</td>\n",
       "      <td>walking</td>\n",
       "    </tr>\n",
       "    <tr>\n",
       "      <th>32</th>\n",
       "      <td>32</td>\n",
       "      <td>11</td>\n",
       "      <td>low fat</td>\n",
       "      <td>84</td>\n",
       "      <td>30 min</td>\n",
       "      <td>walking</td>\n",
       "    </tr>\n",
       "  </tbody>\n",
       "</table>\n",
       "</div>"
      ],
      "text/plain": [
       "    Unnamed: 0  id     diet  pulse    time     kind\n",
       "78          78  27   no fat    100   1 min  running\n",
       "62          62  21  low fat    110  30 min  running\n",
       "65          65  22  low fat    112  30 min  running\n",
       "44          44  15  low fat     95  30 min  walking\n",
       "20          20   7   no fat     90  30 min     rest\n",
       "54          54  19   no fat     97   1 min  walking\n",
       "63          63  22  low fat     98   1 min  running\n",
       "73          73  25  low fat    110  15 min  running\n",
       "52          52  18   no fat     96  15 min  walking\n",
       "32          32  11  low fat     84  30 min  walking"
      ]
     },
     "execution_count": 51,
     "metadata": {},
     "output_type": "execute_result"
    }
   ],
   "source": [
    "ex.sample(10)"
   ]
  },
  {
   "cell_type": "code",
   "execution_count": null,
   "id": "1e181132-8415-4d32-a091-d491f74708c9",
   "metadata": {},
   "outputs": [],
   "source": []
  },
  {
   "cell_type": "code",
   "execution_count": null,
   "id": "945e3d1c-e360-4cf1-b6b1-b29b40f10be8",
   "metadata": {},
   "outputs": [],
   "source": []
  }
 ],
 "metadata": {
  "kernelspec": {
   "display_name": "Python 3",
   "language": "python",
   "name": "python3"
  },
  "language_info": {
   "codemirror_mode": {
    "name": "ipython",
    "version": 3
   },
   "file_extension": ".py",
   "mimetype": "text/x-python",
   "name": "python",
   "nbconvert_exporter": "python",
   "pygments_lexer": "ipython3",
   "version": "3.8.8"
  }
 },
 "nbformat": 4,
 "nbformat_minor": 5
}
